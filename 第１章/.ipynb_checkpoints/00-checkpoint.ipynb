{
 "cells": [
  {
   "cell_type": "markdown",
   "metadata": {},
   "source": [
    "## \n",
    "第1章: 準備運動\n",
    " On this page\n",
    "00. 文字列の逆順\n",
    "01. 「パタトクカシーー」\n",
    "02. 「パトカー」＋「タクシー」＝「パタトクカシーー」\n",
    "03. 円周率\n",
    "04. 元素記号\n",
    "05. n-gram\n",
    "06. 集合\n",
    "07. テンプレートによる文生成\n",
    "08. 暗号文\n",
    "09. Typoglycemia\n",
    "00. 文字列の逆順"
   ]
  },
  {
   "cell_type": "markdown",
   "metadata": {},
   "source": [
    "## 00. 文字列の逆順"
   ]
  },
  {
   "cell_type": "code",
   "execution_count": 2,
   "metadata": {},
   "outputs": [
    {
     "name": "stdout",
     "output_type": "stream",
     "text": [
      "desserts\n"
     ]
    }
   ],
   "source": [
    "s = 'stressed'\n",
    "print(s[::-1])"
   ]
  },
  {
   "cell_type": "markdown",
   "metadata": {},
   "source": [
    "## 01. 「パタトクカシーー」"
   ]
  },
  {
   "cell_type": "code",
   "execution_count": 4,
   "metadata": {},
   "outputs": [
    {
     "name": "stdout",
     "output_type": "stream",
     "text": [
      "タクシー\n"
     ]
    }
   ],
   "source": [
    "s = \"タトクカシーー\"\n",
    "print(s[::2])"
   ]
  },
  {
   "cell_type": "markdown",
   "metadata": {},
   "source": [
    "## 02. 「パトカー」＋「タクシー」＝「パタトクカシーー」"
   ]
  },
  {
   "cell_type": "code",
   "execution_count": 7,
   "metadata": {},
   "outputs": [
    {
     "name": "stdout",
     "output_type": "stream",
     "text": [
      "パタトクカシーー\n"
     ]
    }
   ],
   "source": [
    "s1 = \"パトカー\"\n",
    "s2 = \"タクシー\"\n",
    "ans = \"\"\n",
    "for i in range(4):\n",
    "    ans += s1[i] + s2[i]\n",
    "print(ans)"
   ]
  },
  {
   "cell_type": "markdown",
   "metadata": {},
   "source": [
    "## 03. 円周率"
   ]
  },
  {
   "cell_type": "code",
   "execution_count": 24,
   "metadata": {},
   "outputs": [
    {
     "name": "stdout",
     "output_type": "stream",
     "text": [
      "[3, 1, 4, 1, 5, 9, 2, 6, 5, 3, 5, 8, 9, 7, 9]\n"
     ]
    }
   ],
   "source": [
    "s = \"Now I need a drink, alcoholic of course, after the heavy lectures involving quantum mechanics.\"\n",
    "s = s.strip(\".\")\n",
    "\n",
    "lst = [len(d.strip(\",\")) for d in s.split(\" \")]\n",
    "\n",
    "print(lst)"
   ]
  },
  {
   "cell_type": "markdown",
   "metadata": {},
   "source": [
    "## 04. 元素記号"
   ]
  },
  {
   "cell_type": "code",
   "execution_count": 29,
   "metadata": {},
   "outputs": [
    {
     "name": "stdout",
     "output_type": "stream",
     "text": [
      "{'H': 1, 'He': 2, 'Li': 3, 'Be': 4, 'B': 5, 'C': 6, 'N': 7, 'O': 8, 'F': 9, 'Ne': 10, 'Na': 11, 'Mi': 12, 'Al': 13, 'Si': 14, 'P': 15, 'S': 16, 'Cl': 17, 'Ar': 18, 'K': 19, 'Ca': 20}\n"
     ]
    }
   ],
   "source": [
    "s = \"Hi He Lied Because Boron Could Not Oxidize Fluorine. New Nations Might Also Sign Peace Security Clause. Arthur King Can.\"\n",
    "num = set([1, 5, 6, 7, 8, 9, 15, 16, 19])\n",
    "ans_dic = dict()\n",
    "\n",
    "for i,d in enumerate([d.strip(\".\") for d in s.split(\" \")]):\n",
    "    n = i+1\n",
    "    if n in num:\n",
    "        ans_dic[d[0]] = n\n",
    "    else:\n",
    "        ans_dic[d[:2]] = n\n",
    "print(ans_dic)"
   ]
  },
  {
   "cell_type": "markdown",
   "metadata": {},
   "source": [
    "## 05. n-gram"
   ]
  },
  {
   "cell_type": "code",
   "execution_count": 34,
   "metadata": {},
   "outputs": [
    {
     "data": {
      "text/plain": [
       "(['I am', 'am an', 'an NLPer'],\n",
       " ['I ', ' a', 'am', 'm ', ' a', 'an', 'n ', ' N', 'NL', 'LP', 'Pe', 'er'])"
      ]
     },
     "execution_count": 34,
     "metadata": {},
     "output_type": "execute_result"
    }
   ],
   "source": [
    "s = \"I am an NLPer\"\n",
    "def make_ngram(n,s):\n",
    "    word_lst = [d for d in s.split(\" \")]\n",
    "    char_lst = [d for d in s]\n",
    "    \n",
    "    word_ngram = [ word_lst[i]+\" \"+word_lst[i+1] for i in range(len(word_lst)-1) ]\n",
    "    char_ngram = [ char_lst[i]+char_lst[i+1] for i in range(len(char_lst)-1) ]\n",
    "    \n",
    "    return word_ngram, char_ngram\n",
    "make_ngram(2,s)"
   ]
  },
  {
   "cell_type": "markdown",
   "metadata": {},
   "source": [
    "## 06. 集合"
   ]
  },
  {
   "cell_type": "code",
   "execution_count": 36,
   "metadata": {},
   "outputs": [
    {
     "name": "stdout",
     "output_type": "stream",
     "text": [
      "{'pa', 'ap', 'ph', 'se', 'ag', 'ra', 'gr', 'di', 'is', 'ar', 'ad'} \n",
      " {'pa', 'ar', 'ap', 'ra'} \n",
      " {'is', 'se', 'di', 'ad'}\n",
      "True\n"
     ]
    }
   ],
   "source": [
    "s1 = \"paraparaparadise\"\n",
    "s2 = \"paragraph\"\n",
    "a1,b1 =  make_ngram(2,s1)\n",
    "a2,b2 = make_ngram(2,s2)\n",
    "X = set(b1)\n",
    "Y = set(b2)\n",
    "ans1 = X | Y\n",
    "ans2 = X & Y\n",
    "ans3 = X - Y\n",
    "print(ans1,\"\\n\",ans2,\"\\n\",ans3)\n",
    "print(\"se\" in X or \"se\" in Y)"
   ]
  },
  {
   "cell_type": "markdown",
   "metadata": {},
   "source": [
    "## 07. テンプレートによる文生成"
   ]
  },
  {
   "cell_type": "code",
   "execution_count": 40,
   "metadata": {},
   "outputs": [
    {
     "data": {
      "text/plain": [
       "'12時の気温は22.4'"
      ]
     },
     "execution_count": 40,
     "metadata": {},
     "output_type": "execute_result"
    }
   ],
   "source": [
    "def func(x,y,z):\n",
    "    return f\"{x}時の{y}は{z}\"\n",
    "func(12,\"気温\",22.4)"
   ]
  },
  {
   "cell_type": "markdown",
   "metadata": {},
   "source": [
    "## 08. 暗号文"
   ]
  },
  {
   "cell_type": "code",
   "execution_count": 41,
   "metadata": {},
   "outputs": [
    {
     "data": {
      "text/plain": [
       "'I187122110187122109187NLP118105'"
      ]
     },
     "execution_count": 41,
     "metadata": {},
     "output_type": "execute_result"
    }
   ],
   "source": [
    "def cipher(s):\n",
    "    lst = list(s)\n",
    "    sec = []\n",
    "    for d in lst:\n",
    "        if d == d.lower():\n",
    "            sec.append(str(219 - ord(d)))\n",
    "        else:\n",
    "            sec.append(d)\n",
    "    return \"\".join(sec)\n",
    "cipher(\"I am an NLPer\")"
   ]
  },
  {
   "cell_type": "markdown",
   "metadata": {},
   "source": [
    "## 09. Typoglycemia"
   ]
  },
  {
   "cell_type": "code",
   "execution_count": 49,
   "metadata": {},
   "outputs": [
    {
     "name": "stdout",
     "output_type": "stream",
     "text": [
      "I coun’ldt blveeie that I could aaluclty udtsarnend what I was rdneaig : the peanemohnl pwoer of the hamun mind.\n"
     ]
    }
   ],
   "source": [
    "import random\n",
    "s = \"I couldn’t believe that I could actually understand what I was reading : the phenomenal power of the human mind .\"\n",
    "lst = [ d.strip(\".\") for d in s.split() ]\n",
    "ans = \"\"\n",
    "for d in lst:\n",
    "    if len(d) <= 4:\n",
    "        ans += d + \" \"\n",
    "        continue\n",
    "    center = [d[1:-1][i] for i in random.sample([i for i in range(len(d)-2)], len(d)-2)]\n",
    "    ans += d[0] + \"\".join(center) + d[-1] + \" \"\n",
    "print(ans.rstrip(\" \")+\".\")"
   ]
  }
 ],
 "metadata": {
  "kernelspec": {
   "display_name": "Python 3",
   "language": "python",
   "name": "python3"
  },
  "language_info": {
   "codemirror_mode": {
    "name": "ipython",
    "version": 3
   },
   "file_extension": ".py",
   "mimetype": "text/x-python",
   "name": "python",
   "nbconvert_exporter": "python",
   "pygments_lexer": "ipython3",
   "version": "3.7.6"
  }
 },
 "nbformat": 4,
 "nbformat_minor": 4
}
